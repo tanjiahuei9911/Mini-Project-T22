{
 "cells": [
  {
   "cell_type": "code",
   "execution_count": 1,
   "id": "c516f802",
   "metadata": {},
   "outputs": [
    {
     "data": {
      "text/plain": [
       "True"
      ]
     },
     "execution_count": 1,
     "metadata": {},
     "output_type": "execute_result"
    }
   ],
   "source": [
    "import sys\n",
    "# Python 3.7 is required\n",
    "assert sys.version_info >= (3,7)\n",
    "\n",
    "import os\n",
    "import cv2 as cv\n",
    "import numpy as np\n",
    "\n",
    "# For reproducibility,\n",
    "np.random.seed(99)\n",
    "\n",
    "# Make sure that optimization is enabled\n",
    "if not cv.useOptimized():\n",
    "    cv.setUseOptimized(True)\n",
    "\n",
    "cv.useOptimized()"
   ]
  },
  {
   "cell_type": "markdown",
   "id": "0206654b",
   "metadata": {},
   "source": [
    "# Qn1"
   ]
  },
  {
   "cell_type": "code",
   "execution_count": null,
   "id": "7b06c786",
   "metadata": {},
   "outputs": [],
   "source": [
    "#Read First Image\n",
    "img1 = cv.imread('Cat.jpg')\n",
    "new_width = 300\n",
    "new_height = 500\n",
    "img_resize1 = cv.resize(img1, (new_width, new_height), interpolation = cv.INTER_LINEAR)\n",
    " \n",
    "# Read Second Image\n",
    "img2 = cv.imread('Temple.jpg')\n",
    "new_width = 300\n",
    "new_height = 500\n",
    "img_resize2 = cv.resize(img2, (new_width, new_height), interpolation = cv.INTER_LINEAR)\n",
    " \n",
    "cv.imshow('cat', img_resize1)\n",
    "cv.imshow('temple', img_resize2)\n",
    " \n",
    "cv.waitKey(0)\n",
    "cv.destroyAllWindows()"
   ]
  },
  {
   "cell_type": "markdown",
   "id": "6035bc05",
   "metadata": {},
   "source": [
    "# Qn2 "
   ]
  },
  {
   "cell_type": "code",
   "execution_count": null,
   "id": "45ed5d35",
   "metadata": {},
   "outputs": [],
   "source": [
    "cap = cv.VideoCapture('img_pexels.mp4')\n",
    "\n",
    "if not cap.isOpened():\n",
    "    print(\"Unable to create video\")\n",
    "\n",
    "while cap.isOpened():\n",
    "    ret, frame = cap.read()\n",
    "    cap.set(3, 800)\n",
    "    cap.set(4, 600)\n",
    "    \n",
    "    cv.namedWindow(\"frame\", 0); \n",
    "    cv.resizeWindow(\"frame\", 800,600);\n",
    "\n",
    "    if not ret:\n",
    "        print(\"Can't receive frame.\")\n",
    "        break\n",
    "    \n",
    "    cv.imshow('frame', frame)\n",
    "    \n",
    "    if cv.waitKey(1) & 0xFF == 27:\n",
    "        break\n",
    "\n",
    "\n",
    "cap.release()\n",
    "cv.destroyAllWindows()\n"
   ]
  },
  {
   "cell_type": "markdown",
   "id": "eb9041fb",
   "metadata": {},
   "source": [
    "# Qn3"
   ]
  },
  {
   "cell_type": "code",
   "execution_count": null,
   "id": "94da041f",
   "metadata": {},
   "outputs": [],
   "source": [
    "img = cv.imread(\"flower.png\")\n",
    "hh, ww = img.shape[:2]\n",
    "\n",
    "noise = (800*np.random.random((hh,ww))).clip(0,255).astype(np.uint8)\n",
    "\n",
    "blue = np.full_like(img, (255,0,0))\n",
    "\n",
    "img_masked = cv.bitwise_and(img, img, mask=255-noise)\n",
    "blue_masked = cv.bitwise_and(blue, blue, mask=noise)\n",
    "result = cv.add(img_masked, blue_masked)\n",
    "    \n",
    "cv.imwrite(\"noise.jpg\", noise)\n",
    "cv.imwrite(\"blue.jpg\", blue)\n",
    "cv.imwrite(\"flower_blue_noise.jpg\", result)\n",
    "\n",
    "cv.imshow(\"noise\", noise)\n",
    "cv.imshow(\"blue\", blue)\n",
    "cv.imshow(\"result\", result)\n",
    "cv.waitKey(0)\n",
    "cv.destroyAllWindows()"
   ]
  },
  {
   "cell_type": "code",
   "execution_count": null,
   "id": "389ab49e",
   "metadata": {},
   "outputs": [],
   "source": []
  }
 ],
 "metadata": {
  "kernelspec": {
   "display_name": "Python 3 (ipykernel)",
   "language": "python",
   "name": "python3"
  },
  "language_info": {
   "codemirror_mode": {
    "name": "ipython",
    "version": 3
   },
   "file_extension": ".py",
   "mimetype": "text/x-python",
   "name": "python",
   "nbconvert_exporter": "python",
   "pygments_lexer": "ipython3",
   "version": "3.9.12"
  }
 },
 "nbformat": 4,
 "nbformat_minor": 5
}
